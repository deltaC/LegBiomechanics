{
  "nbformat": 4,
  "nbformat_minor": 0,
  "metadata": {
    "colab": {
      "provenance": []
    },
    "kernelspec": {
      "name": "python3",
      "display_name": "Python 3"
    },
    "language_info": {
      "name": "python"
    }
  },
  "cells": [
    {
      "cell_type": "code",
      "execution_count": null,
      "metadata": {
        "id": "tsPedTIDUEjE"
      },
      "outputs": [],
      "source": [
        "import numpy as np\n",
        "import pandas as pd\n",
        "import matplotlib.pyplot as plt"
      ]
    },
    {
      "cell_type": "code",
      "source": [
        "import mne"
      ],
      "metadata": {
        "id": "SKPjfCVBUV0c"
      },
      "execution_count": null,
      "outputs": []
    },
    {
      "cell_type": "code",
      "source": [
        "raw = mne.io.read_raw_edf('ходьба_4км.edf')"
      ],
      "metadata": {
        "id": "G5Jq4DpTUZlA"
      },
      "execution_count": null,
      "outputs": []
    },
    {
      "cell_type": "code",
      "source": [
        "data = raw['data'][0]"
      ],
      "metadata": {
        "id": "HhqChacBUtHv"
      },
      "execution_count": null,
      "outputs": []
    },
    {
      "cell_type": "markdown",
      "metadata": {
        "id": "3Z_t7l4OgBpX"
      },
      "source": [
        "# SVD"
      ]
    },
    {
      "cell_type": "code",
      "source": [
        "x = data[:23, 2048:2048*15]\n",
        "x"
      ],
      "metadata": {
        "id": "cHSvUsIxUM3z"
      },
      "execution_count": null,
      "outputs": []
    },
    {
      "cell_type": "code",
      "source": [
        "U, S, Vh = np.linalg.svd(x, full_matrices=False)\n",
        "U.shape, S.shape, Vh.shape"
      ],
      "metadata": {
        "id": "_RglED_xUUgL"
      },
      "execution_count": null,
      "outputs": []
    },
    {
      "cell_type": "code",
      "source": [
        "sns.barplot(data = S)"
      ],
      "metadata": {
        "id": "EZDJuNKyVBpp"
      },
      "execution_count": null,
      "outputs": []
    }
  ]
}