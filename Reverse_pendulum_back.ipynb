{
 "cells": [
  {
   "cell_type": "code",
   "execution_count": null,
   "metadata": {},
   "outputs": [],
   "source": [
    "import numpy as np\n",
    "import matplotlib.pyplot as plt\n",
    "\n",
    "a = 0.7\n",
    "b = 0.3\n",
    "t_0 = 0\n",
    "t_finish = 30\n",
    "delta_t = 0.0001\n",
    "\n",
    "n = int((t_finish - t_0) / delta_t) + 1\n",
    "t = np.linspace(t_0, t_finish, n)\n",
    "\n",
    "x_1 = np.zeros(n)\n",
    "x_2 = np.zeros(n)\n",
    "x_1[0] = np.pi / 12\n",
    "x_1_f = np.pi / 3\n",
    "x_2[0] = 0\n",
    "\n",
    "reached_x1_f = False\n",
    "\n",
    "for i in range(n - 1):\n",
    "    if not reached_x1_f:\n",
    "        x_1_next = x_1[i] + delta_t * x_2[i]\n",
    "        x_2_next = x_2[i] + delta_t * (a * np.sin(x_1[i]))\n",
    "\n",
    "        if x_1_next >= x_1_f:\n",
    "            reached_x1_f = True\n",
    "            x_1_next = x_1_f\n",
    "            x_2_next = 0\n",
    "    else:\n",
    "        x_1_next = x_1[i] + delta_t * x_2[i]\n",
    "        x_2_next = x_2[i] + delta_t * (-b * x_2[i] - a * np.sin(x_1[i]))\n",
    "        if x_1_next == 0:\n",
    "            x_1_next = x_1[i] + delta_t * x_2[i]\n",
    "            x_2_next = x_2[i] + delta_t * (-b * x_2[i] + a * np.sin(x_1[i]))\n",
    "\n",
    "    x_1[i + 1] = x_1_next\n",
    "    x_2[i + 1] = x_2_next\n",
    "\n",
    "plt.figure(figsize=(8, 6))\n",
    "plt.plot(t, x_1 * 180 / np.pi, label=\"Угол θ(t)\")\n",
    "plt.plot(t, x_2 * 180 / np.pi, label=\"Угловая скорость ω(t)\")\n",
    "plt.xlabel(\"Время (с)\")\n",
    "plt.ylabel(\"Угол (град) / Угловая скорость (град/с)\")\n",
    "plt.title(\"Маятник с обратной связью\")\n",
    "plt.legend()\n",
    "plt.grid(True)\n",
    "plt.show()\n"
   ]
  }
 ],
 "metadata": {
  "language_info": {
   "name": "python"
  }
 },
 "nbformat": 4,
 "nbformat_minor": 2
}
